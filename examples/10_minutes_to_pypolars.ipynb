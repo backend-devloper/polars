{
 "cells": [
  {
   "cell_type": "code",
   "execution_count": 49,
   "metadata": {},
   "outputs": [
    {
     "name": "stdout",
     "output_type": "stream",
     "text": [
      "Looking in indexes: https://test.pypi.org/simple/\n",
      "Requirement already up-to-date: py-polars in /opt/miniconda3/lib/python3.7/site-packages (0.0.2)\n",
      "Requirement already satisfied, skipping upgrade: numpy in /opt/miniconda3/lib/python3.7/site-packages (from py-polars) (1.19.0)\n",
      "Requirement already satisfied: tqdm in /opt/miniconda3/lib/python3.7/site-packages (4.32.1)\n",
      "Requirement already satisfied: pandas in /opt/miniconda3/lib/python3.7/site-packages (1.0.5)\n",
      "Requirement already satisfied: matplotlib in /opt/miniconda3/lib/python3.7/site-packages (3.1.3)\n",
      "Requirement already satisfied: numpy>=1.13.3 in /opt/miniconda3/lib/python3.7/site-packages (from pandas) (1.19.0)\n",
      "Requirement already satisfied: python-dateutil>=2.6.1 in /opt/miniconda3/lib/python3.7/site-packages (from pandas) (2.8.1)\n",
      "Requirement already satisfied: pytz>=2017.2 in /opt/miniconda3/lib/python3.7/site-packages (from pandas) (2020.1)\n",
      "Requirement already satisfied: pyparsing!=2.0.4,!=2.1.2,!=2.1.6,>=2.0.1 in /opt/miniconda3/lib/python3.7/site-packages (from matplotlib) (2.4.7)\n",
      "Requirement already satisfied: cycler>=0.10 in /opt/miniconda3/lib/python3.7/site-packages (from matplotlib) (0.10.0)\n",
      "Requirement already satisfied: kiwisolver>=1.0.1 in /opt/miniconda3/lib/python3.7/site-packages (from matplotlib) (1.2.0)\n",
      "Requirement already satisfied: six>=1.5 in /opt/miniconda3/lib/python3.7/site-packages (from python-dateutil>=2.6.1->pandas) (1.12.0)\n",
      "Requirement already satisfied: pandas in /opt/miniconda3/lib/python3.7/site-packages (1.0.5)\n",
      "Requirement already satisfied: pytz>=2017.2 in /opt/miniconda3/lib/python3.7/site-packages (from pandas) (2020.1)\n",
      "Requirement already satisfied: numpy>=1.13.3 in /opt/miniconda3/lib/python3.7/site-packages (from pandas) (1.19.0)\n",
      "Requirement already satisfied: python-dateutil>=2.6.1 in /opt/miniconda3/lib/python3.7/site-packages (from pandas) (2.8.1)\n",
      "Requirement already satisfied: six>=1.5 in /opt/miniconda3/lib/python3.7/site-packages (from python-dateutil>=2.6.1->pandas) (1.12.0)\n"
     ]
    }
   ],
   "source": [
    "!pip install --upgrade -i https://test.pypi.org/simple/ py-polars\n",
    "!pip install tqdm pandas matplotlib"
   ]
  },
  {
   "cell_type": "markdown",
   "metadata": {},
   "source": [
    "# 10 minutes to pypolars\n",
    "This as short introduction to Polars to get you started with the basic concepts of data wrangling. It is very much influenced by [10 minutes to pandas](https://pandas.pydata.org/pandas-docs/stable/user_guide/10min.html).\n",
    "\n",
    "Pypolars are the python bindings to Polars. It currently supports only a subset of the datatypes and operations supported by Polars. \n",
    "However it should be enough to give your slow pipelines a boost."
   ]
  },
  {
   "cell_type": "code",
   "execution_count": 2,
   "metadata": {},
   "outputs": [],
   "source": [
    "import pypolars as pl\n",
    "import numpy as np\n",
    "np.random.seed(1)"
   ]
  },
  {
   "cell_type": "markdown",
   "metadata": {},
   "source": [
    "# Object creation\n",
    "\n",
    "Creating a `Series` by passing a list or array of values."
   ]
  },
  {
   "cell_type": "code",
   "execution_count": 3,
   "metadata": {},
   "outputs": [
    {
     "data": {
      "text/plain": [
       "Series: 'a' [i64]\n",
       "[\n",
       "\t1\n",
       "\t2\n",
       "\t3\n",
       "]"
      ]
     },
     "execution_count": 3,
     "metadata": {},
     "output_type": "execute_result"
    }
   ],
   "source": [
    "pl.Series(\"a\", [1, 2, 3])"
   ]
  },
  {
   "cell_type": "markdown",
   "metadata": {},
   "source": [
    "A `Series` can also have nullable values."
   ]
  },
  {
   "cell_type": "code",
   "execution_count": 4,
   "metadata": {},
   "outputs": [
    {
     "data": {
      "text/plain": [
       "Series: 'with nullable values' [i64]\n",
       "[\n",
       "\t1\n",
       "\tnull\n",
       "\t3\n",
       "]"
      ]
     },
     "execution_count": 4,
     "metadata": {},
     "output_type": "execute_result"
    }
   ],
   "source": [
    "s = pl.Series(\"with nullable values\", [1, None, 3], nullable=True)\n",
    "s"
   ]
  },
  {
   "cell_type": "markdown",
   "metadata": {},
   "source": [
    "Series have a data type and can be casted"
   ]
  },
  {
   "cell_type": "code",
   "execution_count": 5,
   "metadata": {},
   "outputs": [
    {
     "name": "stdout",
     "output_type": "stream",
     "text": [
      "<class 'pypolars.datatypes.Int64'>\n"
     ]
    },
    {
     "data": {
      "text/plain": [
       "Series: 'with nullable values' [f32]\n",
       "[\n",
       "\t1\n",
       "\tnull\n",
       "\t3\n",
       "]"
      ]
     },
     "execution_count": 5,
     "metadata": {},
     "output_type": "execute_result"
    }
   ],
   "source": [
    "print(s.dtype)\n",
    "s.cast_f32()"
   ]
  },
  {
   "cell_type": "markdown",
   "metadata": {},
   "source": [
    "A `DataFrame` can be created by passing a dictionary with keys as column names and \n",
    "list values."
   ]
  },
  {
   "cell_type": "code",
   "execution_count": 6,
   "metadata": {},
   "outputs": [
    {
     "data": {
      "text/plain": [
       "+-------+-----+-----+\n",
       "| foo   | bar | ham |\n",
       "| ---   | --- | --- |\n",
       "| f64   | i64 | str |\n",
       "+=======+=====+=====+\n",
       "| 0.417 | 0   | \"h\" |\n",
       "+-------+-----+-----+\n",
       "| 0.72  | 1   | \"h\" |\n",
       "+-------+-----+-----+\n",
       "| 0e0   | 2   | \"h\" |\n",
       "+-------+-----+-----+"
      ]
     },
     "execution_count": 6,
     "metadata": {},
     "output_type": "execute_result"
    }
   ],
   "source": [
    "df = pl.DataFrame({\n",
    "    \"foo\": np.random.rand(10),\n",
    "    \"bar\": np.arange(10),\n",
    "    \"ham\": [\"h\"] * 3 + [\"a\"] * 3 + [\"m\"] * 4\n",
    "})\n",
    "df.head(3)"
   ]
  },
  {
   "cell_type": "markdown",
   "metadata": {},
   "source": [
    "The columns of the result `DataFrame` have different types and names"
   ]
  },
  {
   "cell_type": "code",
   "execution_count": 7,
   "metadata": {},
   "outputs": [
    {
     "name": "stdout",
     "output_type": "stream",
     "text": [
      "[<class 'pypolars.datatypes.Float64'>, <class 'pypolars.datatypes.Int64'>, <class 'pypolars.datatypes.Utf8'>]\n",
      "['foo', 'bar', 'ham']\n"
     ]
    }
   ],
   "source": [
    "print(df.dtypes)\n",
    "print(df.columns)"
   ]
  },
  {
   "cell_type": "markdown",
   "metadata": {},
   "source": [
    "# Viewing data\n",
    "\n",
    "We can view the top and bottom rows of a `DataFrame`"
   ]
  },
  {
   "cell_type": "code",
   "execution_count": 8,
   "metadata": {},
   "outputs": [
    {
     "data": {
      "text/plain": [
       "+-------+-----+-----+\n",
       "| foo   | bar | ham |\n",
       "| ---   | --- | --- |\n",
       "| f64   | i64 | str |\n",
       "+=======+=====+=====+\n",
       "| 0.417 | 0   | \"h\" |\n",
       "+-------+-----+-----+\n",
       "| 0.72  | 1   | \"h\" |\n",
       "+-------+-----+-----+\n",
       "| 0e0   | 2   | \"h\" |\n",
       "+-------+-----+-----+"
      ]
     },
     "execution_count": 8,
     "metadata": {},
     "output_type": "execute_result"
    }
   ],
   "source": [
    "df.head(3)"
   ]
  },
  {
   "cell_type": "code",
   "execution_count": 9,
   "metadata": {},
   "outputs": [
    {
     "data": {
      "text/plain": [
       "+-------+-----+-----+\n",
       "| foo   | bar | ham |\n",
       "| ---   | --- | --- |\n",
       "| f64   | i64 | str |\n",
       "+=======+=====+=====+\n",
       "| 0.346 | 7   | \"m\" |\n",
       "+-------+-----+-----+\n",
       "| 0.397 | 8   | \"m\" |\n",
       "+-------+-----+-----+\n",
       "| 0.539 | 9   | \"m\" |\n",
       "+-------+-----+-----+"
      ]
     },
     "execution_count": 9,
     "metadata": {},
     "output_type": "execute_result"
    }
   ],
   "source": [
    "df.tail(3)"
   ]
  },
  {
   "cell_type": "markdown",
   "metadata": {},
   "source": [
    "We can sort by column."
   ]
  },
  {
   "cell_type": "code",
   "execution_count": 10,
   "metadata": {},
   "outputs": [
    {
     "data": {
      "text/plain": [
       "+-------+-----+-----+\n",
       "| foo   | bar | ham |\n",
       "| ---   | --- | --- |\n",
       "| f64   | i64 | str |\n",
       "+=======+=====+=====+\n",
       "| 0.72  | 1   | \"h\" |\n",
       "+-------+-----+-----+\n",
       "| 0.539 | 9   | \"m\" |\n",
       "+-------+-----+-----+\n",
       "| 0.417 | 0   | \"h\" |\n",
       "+-------+-----+-----+\n",
       "| 0.397 | 8   | \"m\" |\n",
       "+-------+-----+-----+\n",
       "| 0.346 | 7   | \"m\" |\n",
       "+-------+-----+-----+"
      ]
     },
     "execution_count": 10,
     "metadata": {},
     "output_type": "execute_result"
    }
   ],
   "source": [
    "df.sort(\"foo\", reverse=True).head(5)"
   ]
  },
  {
   "cell_type": "markdown",
   "metadata": {},
   "source": [
    "# Selection\n",
    "We can select a single column, which returns a Series."
   ]
  },
  {
   "cell_type": "code",
   "execution_count": 11,
   "metadata": {},
   "outputs": [
    {
     "data": {
      "text/plain": [
       "Series: 'foo' [f64]\n",
       "[\n",
       "\t0.417\n",
       "\t0.72\n",
       "\t0e0\n",
       "]"
      ]
     },
     "execution_count": 11,
     "metadata": {},
     "output_type": "execute_result"
    }
   ],
   "source": [
    "df[\"foo\"].head(3)"
   ]
  },
  {
   "cell_type": "markdown",
   "metadata": {},
   "source": [
    "Or select a column by index"
   ]
  },
  {
   "cell_type": "code",
   "execution_count": 12,
   "metadata": {},
   "outputs": [
    {
     "data": {
      "text/plain": [
       "Series: 'foo' [f64]\n",
       "[\n",
       "\t0.417\n",
       "\t0.72\n",
       "\t0e0\n",
       "\t0.302\n",
       "\t0.147\n",
       "\t0.092\n",
       "\t0.186\n",
       "\t0.346\n",
       "\t0.397\n",
       "\t0.539\n",
       "]"
      ]
     },
     "execution_count": 12,
     "metadata": {},
     "output_type": "execute_result"
    }
   ],
   "source": [
    "df[0]"
   ]
  },
  {
   "cell_type": "markdown",
   "metadata": {},
   "source": [
    "When we select in two dimensions, we select by row, column order.\n",
    "Here we slice until the third row of the first column."
   ]
  },
  {
   "cell_type": "code",
   "execution_count": 13,
   "metadata": {},
   "outputs": [
    {
     "data": {
      "text/plain": [
       "Series: 'foo' [f64]\n",
       "[\n",
       "\t0.417\n",
       "\t0.72\n",
       "\t0e0\n",
       "]"
      ]
     },
     "execution_count": 13,
     "metadata": {},
     "output_type": "execute_result"
    }
   ],
   "source": [
    "df[:3, 0]"
   ]
  },
  {
   "cell_type": "markdown",
   "metadata": {},
   "source": [
    "Or we can slice the whole `DataFrame` into a smaller sub `DataFrame`"
   ]
  },
  {
   "cell_type": "code",
   "execution_count": 14,
   "metadata": {},
   "outputs": [
    {
     "data": {
      "text/plain": [
       "+-------+-----+-----+\n",
       "| foo   | bar | ham |\n",
       "| ---   | --- | --- |\n",
       "| f64   | i64 | str |\n",
       "+=======+=====+=====+\n",
       "| 0.417 | 0   | \"h\" |\n",
       "+-------+-----+-----+\n",
       "| 0.72  | 1   | \"h\" |\n",
       "+-------+-----+-----+\n",
       "| 0e0   | 2   | \"h\" |\n",
       "+-------+-----+-----+\n",
       "| 0.302 | 3   | \"a\" |\n",
       "+-------+-----+-----+"
      ]
     },
     "execution_count": 14,
     "metadata": {},
     "output_type": "execute_result"
    }
   ],
   "source": [
    "df[:4]"
   ]
  },
  {
   "cell_type": "markdown",
   "metadata": {},
   "source": [
    "Or we slice both rows and columns"
   ]
  },
  {
   "cell_type": "code",
   "execution_count": 15,
   "metadata": {},
   "outputs": [
    {
     "data": {
      "text/plain": [
       "+-----+-----+\n",
       "| bar | ham |\n",
       "| --- | --- |\n",
       "| i64 | str |\n",
       "+=====+=====+\n",
       "| 3   | \"a\" |\n",
       "+-----+-----+\n",
       "| 4   | \"a\" |\n",
       "+-----+-----+"
      ]
     },
     "execution_count": 15,
     "metadata": {},
     "output_type": "execute_result"
    }
   ],
   "source": [
    "df[3:5,1:]"
   ]
  },
  {
   "cell_type": "markdown",
   "metadata": {},
   "source": [
    "# Boolean indexing\n",
    "Boolean indexes can be used to filter data."
   ]
  },
  {
   "cell_type": "code",
   "execution_count": 16,
   "metadata": {},
   "outputs": [
    {
     "data": {
      "text/plain": [
       "+-------+-----+-----+\n",
       "| foo   | bar | ham |\n",
       "| ---   | --- | --- |\n",
       "| f64   | i64 | str |\n",
       "+=======+=====+=====+\n",
       "| 0.72  | 1   | \"h\" |\n",
       "+-------+-----+-----+\n",
       "| 0.539 | 9   | \"m\" |\n",
       "+-------+-----+-----+"
      ]
     },
     "execution_count": 16,
     "metadata": {},
     "output_type": "execute_result"
    }
   ],
   "source": [
    "df[df[\"foo\"] > 0.5]"
   ]
  },
  {
   "cell_type": "code",
   "execution_count": 17,
   "metadata": {},
   "outputs": [
    {
     "data": {
      "text/plain": [
       "+-------+-----+-----+\n",
       "| foo   | bar | ham |\n",
       "| ---   | --- | --- |\n",
       "| f64   | i64 | str |\n",
       "+=======+=====+=====+\n",
       "| 0.302 | 3   | \"a\" |\n",
       "+-------+-----+-----+\n",
       "| 0.147 | 4   | \"a\" |\n",
       "+-------+-----+-----+\n",
       "| 0.092 | 5   | \"a\" |\n",
       "+-------+-----+-----+"
      ]
     },
     "execution_count": 17,
     "metadata": {},
     "output_type": "execute_result"
    }
   ],
   "source": [
    "df[df[\"ham\"] == \"a\"]"
   ]
  },
  {
   "cell_type": "markdown",
   "metadata": {},
   "source": [
    "# Setting\n",
    "Adding a new column to the `DataFrame` can be done with `hstack`."
   ]
  },
  {
   "cell_type": "code",
   "execution_count": 18,
   "metadata": {},
   "outputs": [
    {
     "data": {
      "text/plain": [
       "+-------+-----+-----+-----+\n",
       "| foo   | bar | ham | new |\n",
       "| ---   | --- | --- | --- |\n",
       "| f64   | i64 | str | i64 |\n",
       "+=======+=====+=====+=====+\n",
       "| 0.417 | 0   | \"h\" | 0   |\n",
       "+-------+-----+-----+-----+\n",
       "| 0.72  | 1   | \"h\" | 1   |\n",
       "+-------+-----+-----+-----+\n",
       "| 0e0   | 2   | \"h\" | 2   |\n",
       "+-------+-----+-----+-----+\n",
       "| 0.302 | 3   | \"a\" | 3   |\n",
       "+-------+-----+-----+-----+\n",
       "| 0.147 | 4   | \"a\" | 4   |\n",
       "+-------+-----+-----+-----+\n",
       "| 0.092 | 5   | \"a\" | 5   |\n",
       "+-------+-----+-----+-----+\n",
       "| 0.186 | 6   | \"m\" | 6   |\n",
       "+-------+-----+-----+-----+\n",
       "| 0.346 | 7   | \"m\" | 7   |\n",
       "+-------+-----+-----+-----+\n",
       "| 0.397 | 8   | \"m\" | 8   |\n",
       "+-------+-----+-----+-----+\n",
       "| 0.539 | 9   | \"m\" | 9   |\n",
       "+-------+-----+-----+-----+"
      ]
     },
     "execution_count": 18,
     "metadata": {},
     "output_type": "execute_result"
    }
   ],
   "source": [
    "df[\"new\"] = np.arange(10)\n",
    "df"
   ]
  },
  {
   "cell_type": "markdown",
   "metadata": {},
   "source": [
    "We can also define the column location by index"
   ]
  },
  {
   "cell_type": "code",
   "execution_count": 19,
   "metadata": {},
   "outputs": [
    {
     "data": {
      "text/plain": [
       "+---------+-----+-----+-----+\n",
       "| new_foo | bar | ham | new |\n",
       "| ---     | --- | --- | --- |\n",
       "| f64     | i64 | str | i64 |\n",
       "+=========+=====+=====+=====+\n",
       "| 0.419   | 0   | \"h\" | 0   |\n",
       "+---------+-----+-----+-----+\n",
       "| 0.685   | 1   | \"h\" | 1   |\n",
       "+---------+-----+-----+-----+\n",
       "| 0.204   | 2   | \"h\" | 2   |\n",
       "+---------+-----+-----+-----+"
      ]
     },
     "execution_count": 19,
     "metadata": {},
     "output_type": "execute_result"
    }
   ],
   "source": [
    "df[0] = pl.Series(\"new_foo\", np.random.rand(10))\n",
    "df.head(3)"
   ]
  },
  {
   "cell_type": "markdown",
   "metadata": {},
   "source": [
    "Or use a boolean mask to assign new values.\n",
    "\n",
    "_Note that every mutable assignment alocates new memory. So isn't actually mutable with regard to the actual memory. This is a performance trade off. Due to the immutable memory, slices, clones, subsets of `Series`/`DataFrames` are zero copy. If you need to mutate a lot of values, it's faster to do this in numpy allocate a new `Series`._"
   ]
  },
  {
   "cell_type": "code",
   "execution_count": 20,
   "metadata": {},
   "outputs": [],
   "source": [
    "# selection order is row column\n",
    "df[df[\"new_foo\"] > 0.5, \"new_foo\"] = 1"
   ]
  },
  {
   "cell_type": "markdown",
   "metadata": {},
   "source": [
    "we can also define the mutation location by passing an array of indexes"
   ]
  },
  {
   "cell_type": "code",
   "execution_count": 21,
   "metadata": {},
   "outputs": [
    {
     "data": {
      "text/plain": [
       "Series: 'ham' [str]\n",
       "[\n",
       "\t\"h\"\n",
       "\t\"c\"\n",
       "\t\"c\"\n",
       "\t\"c\"\n",
       "\t\"a\"\n",
       "\t\"a\"\n",
       "\t\"m\"\n",
       "\t\"m\"\n",
       "\t\"m\"\n",
       "\t\"m\"\n",
       "]"
      ]
     },
     "execution_count": 21,
     "metadata": {},
     "output_type": "execute_result"
    }
   ],
   "source": [
    "s = df[\"ham\"]\n",
    "s[[1, 2, 3]] = \"c\"\n",
    "s"
   ]
  },
  {
   "cell_type": "markdown",
   "metadata": {},
   "source": [
    "# Concat\n",
    "Polars provide methods to cobine multiple `DataFrames` and `Series`.\n",
    "We can concatenate a `DataFrame` with `hstack`."
   ]
  },
  {
   "cell_type": "code",
   "execution_count": 22,
   "metadata": {},
   "outputs": [
    {
     "data": {
      "text/plain": [
       "+---------+-----+-----+-----+---------+-----+-----+-----+\n",
       "| new_foo | bar | ham | new | new_foo | bar | ham | new |\n",
       "| ---     | --- | --- | --- | ---     | --- | --- | --- |\n",
       "| f64     | i64 | str | i64 | f64     | i64 | str | i64 |\n",
       "+=========+=====+=====+=====+=========+=====+=====+=====+\n",
       "| 0.419   | 0   | \"h\" | 0   | 0.419   | 0   | \"h\" | 0   |\n",
       "+---------+-----+-----+-----+---------+-----+-----+-----+\n",
       "| 1       | 1   | \"h\" | 1   | 1       | 1   | \"h\" | 1   |\n",
       "+---------+-----+-----+-----+---------+-----+-----+-----+\n",
       "| 0.204   | 2   | \"h\" | 2   | 0.204   | 2   | \"h\" | 2   |\n",
       "+---------+-----+-----+-----+---------+-----+-----+-----+\n",
       "| 1       | 3   | \"a\" | 3   | 1       | 3   | \"a\" | 3   |\n",
       "+---------+-----+-----+-----+---------+-----+-----+-----+\n",
       "| 0.027   | 4   | \"a\" | 4   | 0.027   | 4   | \"a\" | 4   |\n",
       "+---------+-----+-----+-----+---------+-----+-----+-----+"
      ]
     },
     "execution_count": 22,
     "metadata": {},
     "output_type": "execute_result"
    }
   ],
   "source": [
    "# clones are super cheap!\n",
    "df1 = df.clone()\n",
    "df1.hstack(df.get_columns())\n",
    "df1.head()"
   ]
  },
  {
   "cell_type": "markdown",
   "metadata": {},
   "source": [
    "Or append rows from another `DataFrame`."
   ]
  },
  {
   "cell_type": "code",
   "execution_count": 23,
   "metadata": {},
   "outputs": [
    {
     "name": "stdout",
     "output_type": "stream",
     "text": [
      "10 20\n"
     ]
    }
   ],
   "source": [
    "df1 = df.clone()\n",
    "df1.vstack(df)\n",
    "print(df.height, df1.height)"
   ]
  },
  {
   "cell_type": "markdown",
   "metadata": {},
   "source": [
    "# Joins\n",
    "SQL-styel joins."
   ]
  },
  {
   "cell_type": "code",
   "execution_count": 24,
   "metadata": {},
   "outputs": [
    {
     "data": {
      "text/plain": [
       "+-------+------+------+\n",
       "| key   | lval | rval |\n",
       "| ---   | ---  | ---  |\n",
       "| str   | i64  | i64  |\n",
       "+=======+======+======+\n",
       "| \"foo\" | 1    | 4    |\n",
       "+-------+------+------+\n",
       "| \"foo\" | 2    | 4    |\n",
       "+-------+------+------+\n",
       "| \"foo\" | 1    | 5    |\n",
       "+-------+------+------+\n",
       "| \"foo\" | 2    | 5    |\n",
       "+-------+------+------+"
      ]
     },
     "execution_count": 24,
     "metadata": {},
     "output_type": "execute_result"
    }
   ],
   "source": [
    "left = pl.DataFrame({'key': ['foo', 'foo'], 'lval': [1, 2]})\n",
    "right = pl.DataFrame({'key': ['foo', 'foo'], 'rval': [4, 5]})\n",
    "\n",
    "left.join(right, left_on=\"key\", right_on=\"key\", how=\"inner\")"
   ]
  },
  {
   "cell_type": "markdown",
   "metadata": {},
   "source": [
    "Another example that can be given is:"
   ]
  },
  {
   "cell_type": "code",
   "execution_count": 25,
   "metadata": {},
   "outputs": [
    {
     "data": {
      "text/plain": [
       "+-------+------+------+\n",
       "| key   | lval | rval |\n",
       "| ---   | ---  | ---  |\n",
       "| str   | i64  | i64  |\n",
       "+=======+======+======+\n",
       "| \"foo\" | 1    | 4    |\n",
       "+-------+------+------+\n",
       "| \"bar\" | 2    | 5    |\n",
       "+-------+------+------+"
      ]
     },
     "execution_count": 25,
     "metadata": {},
     "output_type": "execute_result"
    }
   ],
   "source": [
    "left = pl.DataFrame({'key': ['foo', 'bar'], 'lval': [1, 2]})\n",
    "right = pl.DataFrame({'key': ['foo', 'bar'], 'rval': [4, 5]})\n",
    "\n",
    "left.join(right, left_on=\"key\", right_on=\"key\", how=\"inner\")"
   ]
  },
  {
   "cell_type": "markdown",
   "metadata": {},
   "source": [
    "# Grouping\n",
    "\n",
    "By \"group by\" we are referring to a process involving one or more of the following steps:\n",
    "* **Splitting** the data into groups based on some criteria\n",
    "* **Applying** a function to each group independently\n",
    "* **Combining** the results into a data structure"
   ]
  },
  {
   "cell_type": "code",
   "execution_count": 26,
   "metadata": {},
   "outputs": [
    {
     "data": {
      "text/plain": [
       "+-------+---------+----------+----------+\n",
       "| A     | B       | C        | D        |\n",
       "| ---   | ---     | ---      | ---      |\n",
       "| str   | str     | f64      | f64      |\n",
       "+=======+=========+==========+==========+\n",
       "| \"foo\" | \"one\"   | 1.134    | 0.902    |\n",
       "+-------+---------+----------+----------+\n",
       "| \"bar\" | \"one\"   | -1.1e0   | 0.502    |\n",
       "+-------+---------+----------+----------+\n",
       "| \"foo\" | \"two\"   | -1.72e-1 | 0.901    |\n",
       "+-------+---------+----------+----------+\n",
       "| \"bar\" | \"three\" | -8.78e-1 | -6.84e-1 |\n",
       "+-------+---------+----------+----------+\n",
       "| \"foo\" | \"two\"   | 0.042    | -1.23e-1 |\n",
       "+-------+---------+----------+----------+\n",
       "| \"bar\" | \"two\"   | 0.583    | -9.36e-1 |\n",
       "+-------+---------+----------+----------+\n",
       "| \"foo\" | \"one\"   | -1.101e0 | -2.68e-1 |\n",
       "+-------+---------+----------+----------+\n",
       "| \"foo\" | \"three\" | 1.145    | 0.53     |\n",
       "+-------+---------+----------+----------+"
      ]
     },
     "execution_count": 26,
     "metadata": {},
     "output_type": "execute_result"
    }
   ],
   "source": [
    "df = pl.DataFrame({'A': ['foo', 'bar', 'foo', 'bar',\n",
    "                         'foo', 'bar', 'foo', 'foo'],\n",
    "                   'B': ['one', 'one', 'two', 'three',\n",
    "                         'two', 'two', 'one', 'three'],\n",
    "                   'C': np.random.randn(8),\n",
    "                   'D': np.random.randn(8)})\n",
    "df"
   ]
  },
  {
   "cell_type": "code",
   "execution_count": 27,
   "metadata": {},
   "outputs": [
    {
     "data": {
      "text/plain": [
       "+-------+----------+----------+\n",
       "| A     | C_sum    | D_sum    |\n",
       "| ---   | ---      | ---      |\n",
       "| str   | f64      | f64      |\n",
       "+=======+==========+==========+\n",
       "| \"foo\" | 1.048    | 1.942    |\n",
       "+-------+----------+----------+\n",
       "| \"bar\" | -1.395e0 | -1.117e0 |\n",
       "+-------+----------+----------+"
      ]
     },
     "execution_count": 27,
     "metadata": {},
     "output_type": "execute_result"
    }
   ],
   "source": [
    "df.groupby(\"A\").select([\"C\", \"D\"]).sum()"
   ]
  },
  {
   "cell_type": "code",
   "execution_count": 28,
   "metadata": {},
   "outputs": [
    {
     "data": {
      "text/plain": [
       "+-------+---------+---------+---------+----------+----------+\n",
       "| A     | B       | A_first | B_first | C_first  | D_first  |\n",
       "| ---   | ---     | ---     | ---     | ---      | ---      |\n",
       "| str   | str     | str     | str     | f64      | f64      |\n",
       "+=======+=========+=========+=========+==========+==========+\n",
       "| \"bar\" | \"three\" | \"bar\"   | \"three\" | -8.78e-1 | -6.84e-1 |\n",
       "+-------+---------+---------+---------+----------+----------+\n",
       "| \"foo\" | \"one\"   | \"foo\"   | \"one\"   | 1.134    | 0.902    |\n",
       "+-------+---------+---------+---------+----------+----------+\n",
       "| \"bar\" | \"two\"   | \"bar\"   | \"two\"   | 0.583    | -9.36e-1 |\n",
       "+-------+---------+---------+---------+----------+----------+\n",
       "| \"foo\" | \"three\" | \"foo\"   | \"three\" | 1.145    | 0.53     |\n",
       "+-------+---------+---------+---------+----------+----------+\n",
       "| \"bar\" | \"one\"   | \"bar\"   | \"one\"   | -1.1e0   | 0.502    |\n",
       "+-------+---------+---------+---------+----------+----------+\n",
       "| \"foo\" | \"two\"   | \"foo\"   | \"two\"   | -1.72e-1 | 0.901    |\n",
       "+-------+---------+---------+---------+----------+----------+"
      ]
     },
     "execution_count": 28,
     "metadata": {},
     "output_type": "execute_result"
    }
   ],
   "source": [
    "df.groupby([\"A\", \"B\"]).select_all().first()"
   ]
  },
  {
   "cell_type": "code",
   "execution_count": 29,
   "metadata": {},
   "outputs": [
    {
     "data": {
      "text/plain": [
       "+-------+-----------------+\n",
       "| A     | C_quantile_0.20 |\n",
       "| ---   | ---             |\n",
       "| str   | f64             |\n",
       "+=======+=================+\n",
       "| \"foo\" | -1.101e0        |\n",
       "+-------+-----------------+\n",
       "| \"bar\" | -1.1e0          |\n",
       "+-------+-----------------+"
      ]
     },
     "execution_count": 29,
     "metadata": {},
     "output_type": "execute_result"
    }
   ],
   "source": [
    "df.groupby(\"A\").select(\"C\").quantile(0.2)"
   ]
  },
  {
   "cell_type": "markdown",
   "metadata": {},
   "source": [
    "# Pivot tables\n",
    "\n",
    "Pivots create a summary table by a applying a groupby and defining a pivot column and values to aggregate."
   ]
  },
  {
   "cell_type": "code",
   "execution_count": 30,
   "metadata": {},
   "outputs": [],
   "source": [
    "df = pl.DataFrame({'A': ['one', 'one', 'two', 'three'] * 3,\n",
    "                   'B': ['A', 'B', 'C'] * 4,\n",
    "                   'C': ['foo', 'foo', 'foo', 'bar', 'bar', 'bar'] * 2,\n",
    "                   'D': np.random.randn(12),\n",
    "                   'E': np.random.randn(12)})"
   ]
  },
  {
   "cell_type": "code",
   "execution_count": 31,
   "metadata": {},
   "outputs": [
    {
     "data": {
      "text/plain": [
       "+---------+-------+----------+\n",
       "| A       | foo   | bar      |\n",
       "| ---     | ---   | ---      |\n",
       "| str     | f64   | f64      |\n",
       "+=========+=======+==========+\n",
       "| \"one\"   | 1.245 | 1.939    |\n",
       "+---------+-------+----------+\n",
       "| \"three\" | 0.617 | -9.86e-1 |\n",
       "+---------+-------+----------+\n",
       "| \"two\"   | 0.171 | -1.143e0 |\n",
       "+---------+-------+----------+"
      ]
     },
     "execution_count": 31,
     "metadata": {},
     "output_type": "execute_result"
    }
   ],
   "source": [
    "df.groupby(\"A\").pivot(pivot_column=\"C\", values_column=\"E\").sum()"
   ]
  },
  {
   "cell_type": "code",
   "execution_count": 32,
   "metadata": {},
   "outputs": [
    {
     "data": {
      "text/plain": [
       "+---------+-----+----------+----------+\n",
       "| A       | B   | foo      | bar      |\n",
       "| ---     | --- | ---      | ---      |\n",
       "| str     | str | f64      | f64      |\n",
       "+=========+=====+==========+==========+\n",
       "| \"three\" | \"A\" | null     | -6.37e-1 |\n",
       "+---------+-----+----------+----------+\n",
       "| \"one\"   | \"C\" | 0.3      | 2.1      |\n",
       "+---------+-----+----------+----------+\n",
       "| \"two\"   | \"A\" | 0.12     | null     |\n",
       "+---------+-----+----------+----------+\n",
       "| \"one\"   | \"A\" | -7.47e-1 | -3.52e-1 |\n",
       "+---------+-----+----------+----------+\n",
       "| \"two\"   | \"C\" | 0.051    | null     |\n",
       "+---------+-----+----------+----------+\n",
       "| \"three\" | \"B\" | 0.617    | null     |\n",
       "+---------+-----+----------+----------+\n",
       "| \"one\"   | \"B\" | 1.692    | 0.191    |\n",
       "+---------+-----+----------+----------+\n",
       "| \"two\"   | \"B\" | null     | -1.143e0 |\n",
       "+---------+-----+----------+----------+\n",
       "| \"three\" | \"C\" | null     | -3.49e-1 |\n",
       "+---------+-----+----------+----------+"
      ]
     },
     "execution_count": 32,
     "metadata": {},
     "output_type": "execute_result"
    }
   ],
   "source": [
    "pivotted = df.groupby([\"A\", \"B\"]).pivot(pivot_column=\"C\", values_column=\"E\").sum()\n",
    "pivotted"
   ]
  },
  {
   "cell_type": "markdown",
   "metadata": {},
   "source": [
    "# Numpy interops\n",
    "\n",
    "Polars has zero cost interaction with numpy's [ufunc](https://numpy.org/doc/stable/reference/ufuncs.html) functionality. This means that if a function/ method isn't supported by Polars, we can use numpy's without any overhead. Numpy will write the output to Polars/ arrow memory, and the null bitmask will keep null information."
   ]
  },
  {
   "cell_type": "code",
   "execution_count": 33,
   "metadata": {},
   "outputs": [
    {
     "data": {
      "text/plain": [
       "Series: 'bar' [f64]\n",
       "[\n",
       "\t0.804\n",
       "\t-5.05e-1\n",
       "\tnull\n",
       "\t0.939\n",
       "\tnull\n",
       "\tnull\n",
       "\t0.982\n",
       "\t0.415\n",
       "\t0.94\n",
       "]"
      ]
     },
     "execution_count": 33,
     "metadata": {},
     "output_type": "execute_result"
    }
   ],
   "source": [
    "s = pivotted[\"bar\"]\n",
    "np.cos(s)"
   ]
  },
  {
   "cell_type": "code",
   "execution_count": 34,
   "metadata": {},
   "outputs": [
    {
     "data": {
      "text/plain": [
       "Series: 'bar' [f64]\n",
       "[\n",
       "\t0.529\n",
       "\t8.168\n",
       "\tnull\n",
       "\t0.703\n",
       "\tnull\n",
       "\tnull\n",
       "\t1.21\n",
       "\t0.319\n",
       "\t0.705\n",
       "]"
      ]
     },
     "execution_count": 34,
     "metadata": {},
     "output_type": "execute_result"
    }
   ],
   "source": [
    "np.exp(s)"
   ]
  },
  {
   "cell_type": "markdown",
   "metadata": {},
   "source": [
    "# Clones\n",
    "It was already mentioned previously, but clones are super cheap. This is due to the fact that the underlying memory backed by Polars is immutable. Slices and clones can be made with the guarantee that they will never be modified.\n",
    "\n",
    "Below we observe that cloning an array of 1e6 elements is almost 850x faster. The cost of clone a Polars Series is also constant and doesn't increase with memory size. Ideal for writing pure funcitons. The cost of cloning a DataFrame 10x the size is also very small."
   ]
  },
  {
   "cell_type": "code",
   "execution_count": 35,
   "metadata": {},
   "outputs": [],
   "source": [
    "a = np.arange(int(1e6))"
   ]
  },
  {
   "cell_type": "code",
   "execution_count": 36,
   "metadata": {},
   "outputs": [
    {
     "name": "stdout",
     "output_type": "stream",
     "text": [
      "692 µs ± 41.5 µs per loop (mean ± std. dev. of 7 runs, 1000 loops each)\n"
     ]
    }
   ],
   "source": [
    "%%timeit\n",
    "np.copy(a)"
   ]
  },
  {
   "cell_type": "code",
   "execution_count": 37,
   "metadata": {},
   "outputs": [],
   "source": [
    "s = pl.Series(\"a\", a)"
   ]
  },
  {
   "cell_type": "code",
   "execution_count": 38,
   "metadata": {},
   "outputs": [
    {
     "name": "stdout",
     "output_type": "stream",
     "text": [
      "768 ns ± 45.2 ns per loop (mean ± std. dev. of 7 runs, 1000000 loops each)\n"
     ]
    }
   ],
   "source": [
    "%%timeit\n",
    "s.clone()"
   ]
  },
  {
   "cell_type": "code",
   "execution_count": 39,
   "metadata": {},
   "outputs": [
    {
     "name": "stdout",
     "output_type": "stream",
     "text": [
      "(1000000, 10)\n"
     ]
    },
    {
     "data": {
      "text/plain": [
       "+-----+-----+-----+-----+-----+-----+-----+-----+-----+-----+\n",
       "| a_0 | a_1 | a_2 | a_3 | a_4 | a_5 | a_6 | a_7 | a_8 | a_9 |\n",
       "| --- | --- | --- | --- | --- | --- | --- | --- | --- | --- |\n",
       "| i64 | i64 | i64 | i64 | i64 | i64 | i64 | i64 | i64 | i64 |\n",
       "+=====+=====+=====+=====+=====+=====+=====+=====+=====+=====+\n",
       "| 0   | 0   | 0   | 0   | 0   | 0   | 0   | 0   | 0   | 0   |\n",
       "+-----+-----+-----+-----+-----+-----+-----+-----+-----+-----+\n",
       "| 1   | 1   | 1   | 1   | 1   | 1   | 1   | 1   | 1   | 1   |\n",
       "+-----+-----+-----+-----+-----+-----+-----+-----+-----+-----+\n",
       "| 2   | 2   | 2   | 2   | 2   | 2   | 2   | 2   | 2   | 2   |\n",
       "+-----+-----+-----+-----+-----+-----+-----+-----+-----+-----+"
      ]
     },
     "execution_count": 39,
     "metadata": {},
     "output_type": "execute_result"
    }
   ],
   "source": [
    "df = pl.DataFrame({f\"a_{i}\": s.clone() for i in range(10)})\n",
    "print(df.shape)\n",
    "df.head(3)"
   ]
  },
  {
   "cell_type": "code",
   "execution_count": 40,
   "metadata": {},
   "outputs": [
    {
     "name": "stdout",
     "output_type": "stream",
     "text": [
      "1.68 µs ± 21 ns per loop (mean ± std. dev. of 7 runs, 1000000 loops each)\n"
     ]
    }
   ],
   "source": [
    "%%timeit\n",
    "df.clone()"
   ]
  },
  {
   "cell_type": "markdown",
   "metadata": {},
   "source": [
    "# Performance\n",
    "Let's check some performances with differences with Pandas. "
   ]
  },
  {
   "cell_type": "code",
   "execution_count": 52,
   "metadata": {},
   "outputs": [],
   "source": [
    "import pandas as pd\n",
    "import tqdm\n",
    "from pandas.util.testing import rands\n",
    "import time\n",
    "import matplotlib.pyplot as plt"
   ]
  },
  {
   "cell_type": "code",
   "execution_count": 42,
   "metadata": {},
   "outputs": [],
   "source": [
    "def create_join_dfs(N = 10_000):\n",
    "    left_pivot = int(0.8 * N)\n",
    "    right_pivot = N - left_pivot\n",
    "\n",
    "    indices = np.array([rands(10) for _ in range(N)], dtype=\"O\")\n",
    "    indices2 = np.array([rands(10) for _ in range(N)], dtype=\"O\")\n",
    "    key = np.tile(indices[:left_pivot], 10)\n",
    "    key2 = np.tile(indices2[:left_pivot], 10)\n",
    "\n",
    "    left = pd.DataFrame({\"key\": key, \"key2\": key2, \"value\": np.random.randn(len(key))})\n",
    "    right = pd.DataFrame(\n",
    "        {\"key\": indices[right_pivot:], \"key2\": indices2[right_pivot:], \"value2\": np.random.randn(left_pivot)}\n",
    "    )\n",
    "    return left, right\n",
    "    \n",
    "left, right = create_join_dfs()"
   ]
  },
  {
   "cell_type": "code",
   "execution_count": 43,
   "metadata": {},
   "outputs": [
    {
     "data": {
      "text/plain": [
       "0.0002286"
      ]
     },
     "execution_count": 43,
     "metadata": {},
     "output_type": "execute_result"
    }
   ],
   "source": [
    "def time_lambda(f: \"fn() -> ()\") -> float:\n",
    "    \"\"\"\n",
    "    eval time in ms\n",
    "    \"\"\"\n",
    "    t0 = time.time_ns() \n",
    "    for _ in range(10):\n",
    "        f()\n",
    "    return (time.time_ns() - t0) / 10 / 1e6\n",
    "\n",
    "time_lambda(lambda : 1)\n",
    "        "
   ]
  },
  {
   "cell_type": "code",
   "execution_count": 53,
   "metadata": {},
   "outputs": [
    {
     "name": "stderr",
     "output_type": "stream",
     "text": [
      "100%|██████████| 9/9 [13:34<00:00, 203.94s/it]\n"
     ]
    }
   ],
   "source": [
    "left_pl = []\n",
    "left_pd = []\n",
    "inner_pd = []\n",
    "inner_pl = []\n",
    "outer_pd = []\n",
    "outer_pl = []\n",
    "par_inner = []\n",
    "par_left = []\n",
    "n_proxy = []\n",
    "\n",
    "for N in tqdm.tqdm([10, 30, 40, 50, 70, 100, 500, 1000, 2000]):\n",
    "    N *= 1000\n",
    "    left, right = create_join_dfs(N)\n",
    "    f_left_pd = lambda: left.merge(right, on=\"key\", how=\"left\")\n",
    "    f_inner_pd = lambda: left.merge(right, on=\"key\", how=\"inner\")\n",
    "    f_outer_pd = lambda: left.merge(right, on=\"key\", how=\"outer\")\n",
    "    pd_left_t = time_lambda(f_left_pd)\n",
    "    pd_inner_t = time_lambda(f_inner_pd)\n",
    "    pd_outer_t = time_lambda(f_outer_pd)\n",
    "    \n",
    "    # create polars dfs\n",
    "    left = pl.DataFrame(left.to_dict(orient=\"list\"))\n",
    "    right = pl.DataFrame(right.to_dict(orient=\"list\"))\n",
    "    f_left_pl = lambda: left.join(right, left_on=\"key\", right_on=\"key\", how=\"left\")\n",
    "    f_inner_pl = lambda: left.join(right, left_on=\"key\", right_on=\"key\", how=\"inner\")\n",
    "    f_outer_pl = lambda: left.join(right, left_on=\"key\", right_on=\"key\", how=\"outer\")\n",
    "    pl_left_t = time_lambda(f_left_pl)\n",
    "    pl_inner_t = time_lambda(f_inner_pl)\n",
    "    pl_outer_t = time_lambda(f_outer_pl)\n",
    "    \n",
    "    f_left_par = lambda: left.join(right, left_on=\"key\", right_on=\"key\", how=\"left\", parallel=True)\n",
    "    f_inner_par = lambda: left.join(right, left_on=\"key\", right_on=\"key\", how=\"inner\", parallel=True)\n",
    "    par_left_t = time_lambda(f_left_par)\n",
    "    par_inner_t = time_lambda(f_inner_par)\n",
    "    \n",
    "    # pandas\n",
    "    left_pd.append(pd_left_t)\n",
    "    inner_pd.append(pd_inner_t)\n",
    "    outer_pd.append(pd_outer_t)\n",
    "    \n",
    "    # polars\n",
    "    left_pl.append(pl_left_t)\n",
    "    inner_pl.append(pl_inner_t)\n",
    "    outer_pl.append(pl_outer_t)\n",
    "    \n",
    "    # parallel polars\n",
    "    par_left.append(par_left_t)\n",
    "    par_inner.append(par_inner_t)\n",
    "    n_proxy.append(N * 0.8)\n",
    "    del left\n",
    "    del right\n",
    "    \n"
   ]
  },
  {
   "cell_type": "code",
   "execution_count": 79,
   "metadata": {},
   "outputs": [],
   "source": [
    "def make_fig(how):\n",
    "    plt.figure(figsize=(18, 6))\n",
    "    if how == \"inner\":\n",
    "        plt.plot(n_proxy, left_pd, label=\"pandas left\")\n",
    "        plt.plot(n_proxy, left_pl, label=\"polars left\")\n",
    "        plt.plot(n_proxy, par_left, label=\"polars left parallel\")\n",
    "    elif how == \"outer\":\n",
    "        plt.plot(n_proxy, outer_pl, label=\"polars outer\")\n",
    "        plt.plot(n_proxy, outer_pd, label=\"pandas outer\")\n",
    "    else:\n",
    "        plt.plot(n_proxy, inner_pl, label=\"polars inner\")\n",
    "        plt.plot(n_proxy, inner_pd, label=\"pandas inner\")\n",
    "        plt.plot(n_proxy, par_inner, label=\"polars inner parallel\")\n",
    "    "
   ]
  },
  {
   "cell_type": "code",
   "execution_count": 80,
   "metadata": {},
   "outputs": [
    {
     "data": {
      "image/png": "[encoded data removed]",
      "text/plain": [
       "<Figure size 1296x432 with 1 Axes>"
      ]
     },
     "metadata": {
      "needs_background": "light"
     },
     "output_type": "display_data"
    },
    {
     "data": {
      "image/png": "[encoded data removed]",
      "text/plain": [
       "<Figure size 1296x432 with 1 Axes>"
      ]
     },
     "metadata": {
      "needs_background": "light"
     },
     "output_type": "display_data"
    },
    {
     "data": {
      "image/png": "[encoded data removed]",
      "text/plain": [
       "<Figure size 1296x432 with 1 Axes>"
      ]
     },
     "metadata": {
      "needs_background": "light"
     },
     "output_type": "display_data"
    }
   ],
   "source": [
    "for how in [\"inner\", \"left\", \"outer\"]:\n",
    "    make_fig(how)\n",
    "    plt.legend()\n",
    "    plt.show()"
   ]
  },
  {
   "cell_type": "code",
   "execution_count": 85,
   "metadata": {},
   "outputs": [],
   "source": [
    "speedup_left = np.array(left_pd) / np.array(left_pl)\n",
    "speedup_inner = np.array(inner_pd) / np.array(inner_pl)\n",
    "speedup_outer = np.array(outer_pd) / np.array(outer_pl)\n",
    "speedup_left_par = np.array(left_pd) / np.array(par_left)\n",
    "speedup_inner_par = np.array(inner_pd) / np.array(par_inner)"
   ]
  },
  {
   "cell_type": "code",
   "execution_count": 96,
   "metadata": {},
   "outputs": [
    {
     "data": {
      "text/plain": [
       "<matplotlib.axes._subplots.AxesSubplot at 0x7effad78ca58>"
      ]
     },
     "execution_count": 96,
     "metadata": {},
     "output_type": "execute_result"
    },
    {
     "data": {
      "image/png": "[encoded data removed]",
      "text/plain": [
       "<Figure size 1224x576 with 1 Axes>"
      ]
     },
     "metadata": {
      "needs_background": "light"
     },
     "output_type": "display_data"
    }
   ],
   "source": [
    "df = pd.DataFrame({\n",
    "    \"n_rows\": n_proxy,\n",
    "    \"speedup_left\": speedup_left,\n",
    "    \"speedup_inner\": speedup_inner,\n",
    "    \"speedup_outer\": speedup_outer,\n",
    "    \"speedup_left_par\": speedup_left,\n",
    "    \"speedup_inner_par\": speedup_inner,\n",
    "})\n",
    "df = df.set_index(\"n_rows\") \n",
    "df.plot.bar(figsize=(17, 8), ylim=(1, 3))"
   ]
  },
  {
   "cell_type": "code",
   "execution_count": 100,
   "metadata": {},
   "outputs": [],
   "source": [
    "def create_gb_df(size):\n",
    "    str_groups = np.array(list(\"0123456789\"))\n",
    "    groups = np.arange(10)\n",
    "    g = np.random.choice(groups, size)\n",
    "    sg = np.random.choice(str_groups, size)\n",
    "    v = np.random.randn(size)\n",
    "    return pd.DataFrame({\"groups\": g, \"values\": v, \"str\": sg})\n"
   ]
  },
  {
   "cell_type": "code",
   "execution_count": 115,
   "metadata": {},
   "outputs": [
    {
     "name": "stderr",
     "output_type": "stream",
     "text": [
      "\n",
      "\n",
      "  0%|          | 0/3 [00:00<?, ?it/s]\u001b[A\u001b[A\n",
      "\n",
      " 33%|███▎      | 1/3 [00:00<00:00,  3.60it/s]\u001b[A\u001b[A\n",
      "\n",
      " 67%|██████▋   | 2/3 [00:01<00:00,  1.91it/s]\u001b[A\u001b[A\n",
      "\n",
      "100%|██████████| 3/3 [00:12<00:00,  3.69s/it]\u001b[A\u001b[A"
     ]
    }
   ],
   "source": [
    "gb_pd = []\n",
    "gb_pl = []\n",
    "x = []\n",
    "\n",
    "for size in tqdm.tqdm((1e2, 1e3, 1e4)):\n",
    "    size = int(1000 * size)\n",
    "    x.append(size)\n",
    "    \n",
    "    df = create_gb_df(size)\n",
    "    t = time_lambda(lambda: df.groupby(\"groups\").agg(\"str\").count())\n",
    "\n",
    "    gb_pd.append(t)\n",
    "    df = pl.DataFrame(df.to_dict(orient=\"list\"))\n",
    "    t = time_lambda(lambda: df.groupby(\"groups\").select(\"str\").count())\n",
    "    gb_pl.append(t)"
   ]
  },
  {
   "cell_type": "code",
   "execution_count": 116,
   "metadata": {},
   "outputs": [
    {
     "data": {
      "text/plain": [
       "<matplotlib.axes._subplots.AxesSubplot at 0x7efe80782710>"
      ]
     },
     "execution_count": 116,
     "metadata": {},
     "output_type": "execute_result"
    },
    {
     "data": {
      "image/png": "[encoded data removed]",
      "text/plain": [
       "<Figure size 1224x576 with 1 Axes>"
      ]
     },
     "metadata": {
      "needs_background": "light"
     },
     "output_type": "display_data"
    }
   ],
   "source": [
    "df = pd.DataFrame({\n",
    "    \"dataset_size\": x,\n",
    "    \"speedup\": np.array(gb_pd) / np.array(gb_pl),\n",
    "})\n",
    "df = df.set_index(\"dataset_size\")\n",
    "df.plot.bar(figsize=(17, 8))"
   ]
  },
  {
   "cell_type": "code",
   "execution_count": null,
   "metadata": {},
   "outputs": [],
   "source": []
  }
 ],
 "metadata": {
  "kernelspec": {
   "display_name": "Python 3",
   "language": "python",
   "name": "python3"
  },
  "language_info": {
   "codemirror_mode": {
    "name": "ipython",
    "version": 3
   },
   "file_extension": ".py",
   "mimetype": "text/x-python",
   "name": "python",
   "nbconvert_exporter": "python",
   "pygments_lexer": "ipython3",
   "version": "3.7.3"
  }
 },
 "nbformat": 4,
 "nbformat_minor": 4
}
